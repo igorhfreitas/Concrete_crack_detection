{
  "nbformat": 4,
  "nbformat_minor": 0,
  "metadata": {
    "colab": {
      "provenance": [],
      "authorship_tag": "ABX9TyNzuLkjvtDnNUiW2Ad3dEh8",
      "include_colab_link": true
    },
    "kernelspec": {
      "name": "python3",
      "display_name": "Python 3"
    },
    "language_info": {
      "name": "python"
    }
  },
  "cells": [
    {
      "cell_type": "markdown",
      "metadata": {
        "id": "view-in-github",
        "colab_type": "text"
      },
      "source": [
        "<a href=\"https://colab.research.google.com/github/igorhfreitas/Concrete_crack_detection/blob/main/Building_facade_inspector_poc.ipynb\" target=\"_parent\"><img src=\"https://colab.research.google.com/assets/colab-badge.svg\" alt=\"Open In Colab\"/></a>"
      ]
    },
    {
      "cell_type": "code",
      "source": [
        "!wget https://github.com/phiyodr/building-inspection-toolkit"
      ],
      "metadata": {
        "id": "fhc1PsfTE9PE"
      },
      "execution_count": null,
      "outputs": []
    }
  ]
}